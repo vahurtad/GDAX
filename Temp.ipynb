{
 "cells": [
  {
   "cell_type": "code",
   "execution_count": 1,
   "metadata": {},
   "outputs": [
    {
     "name": "stdout",
     "output_type": "stream",
     "text": [
      "Requirement already satisfied: GDAX in c:\\users\\vanea\\appdata\\roaming\\python\\python36\\site-packages\n",
      "Requirement already satisfied: requests==2.13.0 in c:\\users\\vanea\\appdata\\roaming\\python\\python36\\site-packages (from GDAX)\n",
      "Requirement already satisfied: websocket-client==0.40.0 in c:\\users\\vanea\\appdata\\roaming\\python\\python36\\site-packages (from GDAX)\n",
      "Requirement already satisfied: bintrees==2.0.7 in c:\\users\\vanea\\appdata\\roaming\\python\\python36\\site-packages (from GDAX)\n",
      "Requirement already satisfied: six==1.10.0 in c:\\users\\vanea\\appdata\\roaming\\python\\python36\\site-packages (from GDAX)\n"
     ]
    },
    {
     "name": "stderr",
     "output_type": "stream",
     "text": [
      "You are using pip version 9.0.1, however version 9.0.3 is available.\n",
      "You should consider upgrading via the 'python -m pip install --upgrade pip' command.\n"
     ]
    }
   ],
   "source": [
    "! pip install --user GDAX"
   ]
  },
  {
   "cell_type": "code",
   "execution_count": 2,
   "metadata": {},
   "outputs": [],
   "source": [
    "import gdax,time"
   ]
  },
  {
   "cell_type": "code",
   "execution_count": 14,
   "metadata": {},
   "outputs": [],
   "source": [
    "public_client = gdax.PublicClient()"
   ]
  },
  {
   "cell_type": "code",
   "execution_count": 45,
   "metadata": {},
   "outputs": [
    {
     "data": {
      "text/plain": [
       "{'asks': [['159.41', '93.17883159', 8],\n",
       "  ['159.43', '10', 1],\n",
       "  ['159.48', '16.77', 1],\n",
       "  ['159.49', '20', 1],\n",
       "  ['159.51', '2.84843429', 1],\n",
       "  ['159.58', '40', 2],\n",
       "  ['159.62', '0.60435892', 1],\n",
       "  ['159.65', '1', 1],\n",
       "  ['159.66', '20', 1],\n",
       "  ['159.67', '20', 1],\n",
       "  ['159.71', '0.10332', 1],\n",
       "  ['159.72', '0.38', 1],\n",
       "  ['159.74', '28.2', 1],\n",
       "  ['159.75', '5', 1],\n",
       "  ['159.78', '20', 1],\n",
       "  ['159.83', '21.15270763', 3],\n",
       "  ['159.84', '3.218812', 1],\n",
       "  ['159.85', '31.679', 1],\n",
       "  ['159.86', '0.3', 1],\n",
       "  ['159.9', '30', 1],\n",
       "  ['159.91', '40', 2],\n",
       "  ['159.99', '4', 1],\n",
       "  ['160', '4', 1],\n",
       "  ['160.04', '311.30492424', 4],\n",
       "  ['160.06', '80', 1],\n",
       "  ['160.07', '0.3', 1],\n",
       "  ['160.08', '0.3', 1],\n",
       "  ['160.09', '1.05188645', 1],\n",
       "  ['160.1', '45.2257', 1],\n",
       "  ['160.12', '25.67788646', 3],\n",
       "  ['160.13', '60', 1],\n",
       "  ['160.19', '0.4', 3],\n",
       "  ['160.21', '0.1', 1],\n",
       "  ['160.22', '0.2', 1],\n",
       "  ['160.25', '1.12734271', 2],\n",
       "  ['160.31', '0.12404281', 1],\n",
       "  ['160.34', '1', 1],\n",
       "  ['160.36', '14.1467', 3],\n",
       "  ['160.38', '11.26', 3],\n",
       "  ['160.4', '5.8919131', 14],\n",
       "  ['160.41', '37.441', 1],\n",
       "  ['160.42', '0.2', 2],\n",
       "  ['160.45', '91', 3],\n",
       "  ['160.46', '38.82222363', 2],\n",
       "  ['160.47', '70', 1],\n",
       "  ['160.48', '0.1', 1],\n",
       "  ['160.5', '97.39395831', 5],\n",
       "  ['160.51', '0.12407564', 1],\n",
       "  ['160.52', '0.64714814', 1],\n",
       "  ['160.58', '49.7073752', 1]],\n",
       " 'bids': [['159.4', '417.77296618', 17],\n",
       "  ['159.39', '20.20021206', 1],\n",
       "  ['159.37', '27', 2],\n",
       "  ['159.33', '0.10373', 1],\n",
       "  ['159.32', '1', 1],\n",
       "  ['159.31', '10.22419638', 3],\n",
       "  ['159.3', '0.59230422', 3],\n",
       "  ['159.29', '0.46060477', 2],\n",
       "  ['159.23', '22.99610626', 3],\n",
       "  ['159.22', '113.28910814', 3],\n",
       "  ['159.21', '10', 1],\n",
       "  ['159.2', '0.2', 2],\n",
       "  ['159.18', '2.3', 5],\n",
       "  ['159.17', '0.3', 3],\n",
       "  ['159.16', '2.81319426', 4],\n",
       "  ['159.15', '25.52814954', 4],\n",
       "  ['159.14', '2.2', 3],\n",
       "  ['159.11', '47.16529828', 5],\n",
       "  ['159.1', '16.49483536', 6],\n",
       "  ['159.08', '60.45941661', 2],\n",
       "  ['159.07', '11.32397', 4],\n",
       "  ['159.06', '47.158', 3],\n",
       "  ['159.05', '1', 1],\n",
       "  ['159.04', '60.23485796', 5],\n",
       "  ['159.03', '1', 1],\n",
       "  ['159.02', '0.1', 1],\n",
       "  ['159.01', '34.44325719', 6],\n",
       "  ['159', '693.66016721', 45],\n",
       "  ['158.99', '11.0126423', 2],\n",
       "  ['158.98', '2', 1],\n",
       "  ['158.97', '3.76567656', 1],\n",
       "  ['158.96', '4.698978', 1],\n",
       "  ['158.95', '3.8', 4],\n",
       "  ['158.94', '30.40589633', 2],\n",
       "  ['158.93', '20', 1],\n",
       "  ['158.92', '0.1', 1],\n",
       "  ['158.91', '40.12484831', 4],\n",
       "  ['158.9', '48.58138138', 13],\n",
       "  ['158.88', '45.57314594', 3],\n",
       "  ['158.87', '0.313146', 1],\n",
       "  ['158.85', '0.2709', 2],\n",
       "  ['158.83', '23.75390407', 2],\n",
       "  ['158.82', '1', 1],\n",
       "  ['158.81', '10.95954751', 4],\n",
       "  ['158.8', '41.778', 2],\n",
       "  ['158.79', '2.23094206', 2],\n",
       "  ['158.78', '5', 2],\n",
       "  ['158.77', '0.1', 1],\n",
       "  ['158.76', '0.45', 2],\n",
       "  ['158.75', '63.29687658', 5]],\n",
       " 'sequence': 1854240876}"
      ]
     },
     "execution_count": 45,
     "metadata": {},
     "output_type": "execute_result"
    }
   ],
   "source": [
    "public_client.get_product_order_book('LTC-USD',level= 2)"
   ]
  },
  {
   "cell_type": "code",
   "execution_count": 48,
   "metadata": {},
   "outputs": [
    {
     "data": {
      "text/plain": [
       "{'ask': '159.41',\n",
       " 'bid': '159.4',\n",
       " 'price': '159.41000000',\n",
       " 'size': '2.00000000',\n",
       " 'time': '2018-03-26T07:26:54.625000Z',\n",
       " 'trade_id': 28048799,\n",
       " 'volume': '123246.92094843'}"
      ]
     },
     "execution_count": 48,
     "metadata": {},
     "output_type": "execute_result"
    }
   ],
   "source": [
    "public_client.get_product_ticker(product_id='LTC-USD')"
   ]
  },
  {
   "cell_type": "code",
   "execution_count": 4,
   "metadata": {},
   "outputs": [],
   "source": [
    "# Paramters are optional\n",
    "wsClient = gdax.WebsocketClient(url=\"wss://ws-feed.gdax.com\", products=\"LTC-USD\")"
   ]
  },
  {
   "cell_type": "code",
   "execution_count": null,
   "metadata": {},
   "outputs": [
    {
     "name": "stdout",
     "output_type": "stream",
     "text": [
      "-- Subscribed! --\n",
      "\n"
     ]
    }
   ],
   "source": [
    "wsClient.start()\n",
    "time.sleep(1)\n",
    "# Do other stuff...\n",
    "wsClient.close()"
   ]
  },
  {
   "cell_type": "code",
   "execution_count": null,
   "metadata": {},
   "outputs": [],
   "source": [
    "# Do other stuff...\n",
    "wsClient.close()"
   ]
  },
  {
   "cell_type": "code",
   "execution_count": null,
   "metadata": {},
   "outputs": [],
   "source": []
  },
  {
   "cell_type": "code",
   "execution_count": null,
   "metadata": {},
   "outputs": [],
   "source": []
  }
 ],
 "metadata": {
  "kernelspec": {
   "display_name": "Python 3",
   "language": "python",
   "name": "python3"
  },
  "language_info": {
   "codemirror_mode": {
    "name": "ipython",
    "version": 3
   },
   "file_extension": ".py",
   "mimetype": "text/x-python",
   "name": "python",
   "nbconvert_exporter": "python",
   "pygments_lexer": "ipython3",
   "version": "3.6.4"
  }
 },
 "nbformat": 4,
 "nbformat_minor": 2
}
